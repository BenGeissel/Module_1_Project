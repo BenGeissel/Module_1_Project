{
 "cells": [
  {
   "cell_type": "code",
   "execution_count": 58,
   "metadata": {},
   "outputs": [],
   "source": [
    "import pandas as pd\n",
    "import numpy as np\n",
    "import seaborn as sns\n",
    "import matplotlib.pyplot as plt\n"
   ]
  },
  {
   "cell_type": "markdown",
   "metadata": {},
   "source": [
    "# Reading in CSV's and Naming Features"
   ]
  },
  {
   "cell_type": "code",
   "execution_count": 59,
   "metadata": {},
   "outputs": [],
   "source": [
    "imdb_files = imdb_name_basics = pd.read_csv('imdb.name.basics.csv')\n",
    "imdb_title_basics = pd.read_csv('imdb.title.basics.csv')\n",
    "imdb_title_crew = pd.read_csv('imdb.title.crew.csv')\n",
    "imdb_title_principals = pd.read_csv('imdb.title.principals.csv')\n",
    "imdb_title_ratings = pd.read_csv('imdb.title.ratings.csv')\n",
    "\n"
   ]
  },
  {
   "cell_type": "code",
   "execution_count": 60,
   "metadata": {},
   "outputs": [],
   "source": [
    "imdb_files_list = [imdb_name_basics, imdb_title_basics, imdb_title_crew, imdb_title_principals, imdb_title_ratings]"
   ]
  },
  {
   "cell_type": "markdown",
   "metadata": {},
   "source": [
    "# Merging IMDB Tables"
   ]
  },
  {
   "cell_type": "code",
   "execution_count": 125,
   "metadata": {},
   "outputs": [
    {
     "data": {
      "text/html": [
       "<div>\n",
       "<style scoped>\n",
       "    .dataframe tbody tr th:only-of-type {\n",
       "        vertical-align: middle;\n",
       "    }\n",
       "\n",
       "    .dataframe tbody tr th {\n",
       "        vertical-align: top;\n",
       "    }\n",
       "\n",
       "    .dataframe thead th {\n",
       "        text-align: right;\n",
       "    }\n",
       "</style>\n",
       "<table border=\"1\" class=\"dataframe\">\n",
       "  <thead>\n",
       "    <tr style=\"text-align: right;\">\n",
       "      <th></th>\n",
       "      <th>tconst</th>\n",
       "      <th>averagerating</th>\n",
       "      <th>numvotes</th>\n",
       "      <th>ordering</th>\n",
       "      <th>nconst</th>\n",
       "      <th>category</th>\n",
       "      <th>job</th>\n",
       "      <th>characters</th>\n",
       "      <th>directors</th>\n",
       "      <th>writers</th>\n",
       "      <th>primary_name</th>\n",
       "      <th>birth_year</th>\n",
       "      <th>death_year</th>\n",
       "      <th>primary_profession</th>\n",
       "      <th>known_for_titles</th>\n",
       "    </tr>\n",
       "  </thead>\n",
       "  <tbody>\n",
       "    <tr>\n",
       "      <td>0</td>\n",
       "      <td>tt10356526</td>\n",
       "      <td>8.3</td>\n",
       "      <td>31.0</td>\n",
       "      <td>10.0</td>\n",
       "      <td>nm8994524</td>\n",
       "      <td>production_designer</td>\n",
       "      <td>NaN</td>\n",
       "      <td>NaN</td>\n",
       "      <td>nm8353804</td>\n",
       "      <td>nm3057599,nm4179342</td>\n",
       "      <td>Kazi Rafik Ali</td>\n",
       "      <td>NaN</td>\n",
       "      <td>NaN</td>\n",
       "      <td>production_designer,art_department</td>\n",
       "      <td>tt9190740,tt2837596,tt4773212,tt8749962</td>\n",
       "    </tr>\n",
       "    <tr>\n",
       "      <td>1</td>\n",
       "      <td>tt9190740</td>\n",
       "      <td>8.3</td>\n",
       "      <td>39.0</td>\n",
       "      <td>9.0</td>\n",
       "      <td>nm8994524</td>\n",
       "      <td>production_designer</td>\n",
       "      <td>NaN</td>\n",
       "      <td>NaN</td>\n",
       "      <td>nm4179342</td>\n",
       "      <td>nm4179342</td>\n",
       "      <td>Kazi Rafik Ali</td>\n",
       "      <td>NaN</td>\n",
       "      <td>NaN</td>\n",
       "      <td>production_designer,art_department</td>\n",
       "      <td>tt9190740,tt2837596,tt4773212,tt8749962</td>\n",
       "    </tr>\n",
       "    <tr>\n",
       "      <td>2</td>\n",
       "      <td>tt8908024</td>\n",
       "      <td>NaN</td>\n",
       "      <td>NaN</td>\n",
       "      <td>4.0</td>\n",
       "      <td>nm8994524</td>\n",
       "      <td>production_designer</td>\n",
       "      <td>NaN</td>\n",
       "      <td>NaN</td>\n",
       "      <td>nm8423987</td>\n",
       "      <td>NaN</td>\n",
       "      <td>Kazi Rafik Ali</td>\n",
       "      <td>NaN</td>\n",
       "      <td>NaN</td>\n",
       "      <td>production_designer,art_department</td>\n",
       "      <td>tt9190740,tt2837596,tt4773212,tt8749962</td>\n",
       "    </tr>\n",
       "    <tr>\n",
       "      <td>3</td>\n",
       "      <td>tt10356526</td>\n",
       "      <td>8.3</td>\n",
       "      <td>31.0</td>\n",
       "      <td>1.0</td>\n",
       "      <td>nm4718369</td>\n",
       "      <td>actor</td>\n",
       "      <td>NaN</td>\n",
       "      <td>[\"Sukh\"]</td>\n",
       "      <td>nm8353804</td>\n",
       "      <td>nm3057599,nm4179342</td>\n",
       "      <td>Harish Verma</td>\n",
       "      <td>NaN</td>\n",
       "      <td>NaN</td>\n",
       "      <td>actor</td>\n",
       "      <td>tt3265542,tt7246718,tt8108168,tt3331954</td>\n",
       "    </tr>\n",
       "    <tr>\n",
       "      <td>4</td>\n",
       "      <td>tt7140020</td>\n",
       "      <td>6.4</td>\n",
       "      <td>24.0</td>\n",
       "      <td>1.0</td>\n",
       "      <td>nm4718369</td>\n",
       "      <td>actor</td>\n",
       "      <td>NaN</td>\n",
       "      <td>[\"MLA\"]</td>\n",
       "      <td>nm5514467</td>\n",
       "      <td>nm8337234,nm7337612,nm8337235,nm5514467</td>\n",
       "      <td>Harish Verma</td>\n",
       "      <td>NaN</td>\n",
       "      <td>NaN</td>\n",
       "      <td>actor</td>\n",
       "      <td>tt3265542,tt7246718,tt8108168,tt3331954</td>\n",
       "    </tr>\n",
       "  </tbody>\n",
       "</table>\n",
       "</div>"
      ],
      "text/plain": [
       "       tconst  averagerating  numvotes  ordering     nconst  \\\n",
       "0  tt10356526            8.3      31.0      10.0  nm8994524   \n",
       "1   tt9190740            8.3      39.0       9.0  nm8994524   \n",
       "2   tt8908024            NaN       NaN       4.0  nm8994524   \n",
       "3  tt10356526            8.3      31.0       1.0  nm4718369   \n",
       "4   tt7140020            6.4      24.0       1.0  nm4718369   \n",
       "\n",
       "              category  job characters  directors  \\\n",
       "0  production_designer  NaN        NaN  nm8353804   \n",
       "1  production_designer  NaN        NaN  nm4179342   \n",
       "2  production_designer  NaN        NaN  nm8423987   \n",
       "3                actor  NaN   [\"Sukh\"]  nm8353804   \n",
       "4                actor  NaN    [\"MLA\"]  nm5514467   \n",
       "\n",
       "                                   writers    primary_name  birth_year  \\\n",
       "0                      nm3057599,nm4179342  Kazi Rafik Ali         NaN   \n",
       "1                                nm4179342  Kazi Rafik Ali         NaN   \n",
       "2                                      NaN  Kazi Rafik Ali         NaN   \n",
       "3                      nm3057599,nm4179342    Harish Verma         NaN   \n",
       "4  nm8337234,nm7337612,nm8337235,nm5514467    Harish Verma         NaN   \n",
       "\n",
       "   death_year                  primary_profession  \\\n",
       "0         NaN  production_designer,art_department   \n",
       "1         NaN  production_designer,art_department   \n",
       "2         NaN  production_designer,art_department   \n",
       "3         NaN                               actor   \n",
       "4         NaN                               actor   \n",
       "\n",
       "                          known_for_titles  \n",
       "0  tt9190740,tt2837596,tt4773212,tt8749962  \n",
       "1  tt9190740,tt2837596,tt4773212,tt8749962  \n",
       "2  tt9190740,tt2837596,tt4773212,tt8749962  \n",
       "3  tt3265542,tt7246718,tt8108168,tt3331954  \n",
       "4  tt3265542,tt7246718,tt8108168,tt3331954  "
      ]
     },
     "execution_count": 125,
     "metadata": {},
     "output_type": "execute_result"
    }
   ],
   "source": [
    "# Merge IMDB tables on tconst (renamed to 'title_id')\n",
    "imdb_title_ratings_principals = pd.merge(imdb_title_ratings, imdb_title_principals, on = 'tconst', how = 'outer')\n",
    "imdb_title_full = pd.merge(imdb_title_ratings_principals, imdb_title_crew, on = 'tconst', how = 'outer')\n",
    "imdb_title_names_full = pd.merge(imdb_title_full, imdb_name_basics, on = 'nconst', how = 'outer')\n",
    "imdb_title_names_full.head()\n",
    "\n"
   ]
  },
  {
   "cell_type": "markdown",
   "metadata": {},
   "source": [
    "# Drop Columns not related to average rating"
   ]
  },
  {
   "cell_type": "code",
   "execution_count": 62,
   "metadata": {},
   "outputs": [],
   "source": [
    "#drop unecessary columns\n",
    "imdb_title_names_full = imdb_title_names_full.drop([\n",
    "        'job', \n",
    "        'birth_year',\n",
    "        'death_year',\n",
    "        'ordering',\n",
    "        'nconst',\n",
    "        'numvotes',\n",
    "        'directors',\n",
    "        'writers',\n",
    "        'characters',\n",
    "        'known_for_titles',\n",
    "        'tconst'],\n",
    "        axis = 1)\n",
    "    \n",
    "    "
   ]
  },
  {
   "cell_type": "code",
   "execution_count": 63,
   "metadata": {},
   "outputs": [],
   "source": [
    "# Drop NaN Average Rating\n",
    "imdb_clean = imdb_title_names_full.dropna()\n"
   ]
  },
  {
   "cell_type": "markdown",
   "metadata": {},
   "source": [
    "# Return names with 20 or more movies"
   ]
  },
  {
   "cell_type": "code",
   "execution_count": 94,
   "metadata": {},
   "outputs": [
    {
     "data": {
      "text/plain": [
       "Index(['Kevin MacLeod', 'Eric Roberts', 'William Shakespeare', 'Gopi Sundar',\n",
       "       'Vicente G. del Rosario III', 'S. Thaman', 'Brahmanandam',\n",
       "       'Prakash Raj', 'Veronique del Rosario-Corpus', 'Jason Blum',\n",
       "       ...\n",
       "       'Ruwan Costa', 'Daniel Padilla', 'Bryan Senti', 'Thomas Dekker',\n",
       "       'Bárbara Lennie', 'William Wai-Ting Chan', 'Mads Heldtberg',\n",
       "       'Ingo Fliess', 'Andrew A. Kosove', 'Stephen McHattie'],\n",
       "      dtype='object', length=4034)"
      ]
     },
     "execution_count": 94,
     "metadata": {},
     "output_type": "execute_result"
    }
   ],
   "source": [
    "# Data Assumption: Only counting people with > 20 movies \n",
    "imdb_names_count = imdb_clean.primary_name.value_counts()\n",
    "imdb_prominent_names = imdb_names_count.loc[imdb_names_count > 10]\n",
    "imdb_prominent_names.index"
   ]
  },
  {
   "cell_type": "code",
   "execution_count": 123,
   "metadata": {},
   "outputs": [
    {
     "data": {
      "image/png": "[encoded data removed]",
      "text/plain": [
       "<Figure size 432x288 with 1 Axes>"
      ]
     },
     "metadata": {
      "needs_background": "light"
     },
     "output_type": "display_data"
    }
   ],
   "source": [
    "fig = plt.figure()\n",
    "imdb_graph = sns.distplot(imdb_prominent_names)\n",
    "plt.title('Movie Counts by Name')\n",
    "plt.ylabel('Percentage of Distribution')\n",
    "plt.xlabel('Number of Movies')\n",
    "plt.show()\n",
    "fig.savefig('imdb_movie_count2.png')"
   ]
  },
  {
   "cell_type": "markdown",
   "metadata": {},
   "source": [
    "# Group DF by name and rating\n"
   ]
  },
  {
   "cell_type": "code",
   "execution_count": 96,
   "metadata": {},
   "outputs": [
    {
     "data": {
      "text/html": [
       "<div>\n",
       "<style scoped>\n",
       "    .dataframe tbody tr th:only-of-type {\n",
       "        vertical-align: middle;\n",
       "    }\n",
       "\n",
       "    .dataframe tbody tr th {\n",
       "        vertical-align: top;\n",
       "    }\n",
       "\n",
       "    .dataframe thead th {\n",
       "        text-align: right;\n",
       "    }\n",
       "</style>\n",
       "<table border=\"1\" class=\"dataframe\">\n",
       "  <thead>\n",
       "    <tr style=\"text-align: right;\">\n",
       "      <th></th>\n",
       "      <th>averagerating</th>\n",
       "    </tr>\n",
       "    <tr>\n",
       "      <th>primary_name</th>\n",
       "      <th></th>\n",
       "    </tr>\n",
       "  </thead>\n",
       "  <tbody>\n",
       "    <tr>\n",
       "      <td>Cara Artman</td>\n",
       "      <td>10.0</td>\n",
       "    </tr>\n",
       "    <tr>\n",
       "      <td>Lance Vogel</td>\n",
       "      <td>10.0</td>\n",
       "    </tr>\n",
       "    <tr>\n",
       "      <td>Batman</td>\n",
       "      <td>10.0</td>\n",
       "    </tr>\n",
       "    <tr>\n",
       "      <td>Aurora Sharon Lewis</td>\n",
       "      <td>10.0</td>\n",
       "    </tr>\n",
       "    <tr>\n",
       "      <td>Ivana Diniz</td>\n",
       "      <td>10.0</td>\n",
       "    </tr>\n",
       "    <tr>\n",
       "      <td>...</td>\n",
       "      <td>...</td>\n",
       "    </tr>\n",
       "    <tr>\n",
       "      <td>Ramo Nakajima</td>\n",
       "      <td>1.0</td>\n",
       "    </tr>\n",
       "    <tr>\n",
       "      <td>Shûko Nemoto</td>\n",
       "      <td>1.0</td>\n",
       "    </tr>\n",
       "    <tr>\n",
       "      <td>Alveda King</td>\n",
       "      <td>1.0</td>\n",
       "    </tr>\n",
       "    <tr>\n",
       "      <td>Tomas Krejca</td>\n",
       "      <td>1.0</td>\n",
       "    </tr>\n",
       "    <tr>\n",
       "      <td>Yumiko Beppu</td>\n",
       "      <td>1.0</td>\n",
       "    </tr>\n",
       "  </tbody>\n",
       "</table>\n",
       "<p>328149 rows × 1 columns</p>\n",
       "</div>"
      ],
      "text/plain": [
       "                     averagerating\n",
       "primary_name                      \n",
       "Cara Artman                   10.0\n",
       "Lance Vogel                   10.0\n",
       "Batman                        10.0\n",
       "Aurora Sharon Lewis           10.0\n",
       "Ivana Diniz                   10.0\n",
       "...                            ...\n",
       "Ramo Nakajima                  1.0\n",
       "Shûko Nemoto                   1.0\n",
       "Alveda King                    1.0\n",
       "Tomas Krejca                   1.0\n",
       "Yumiko Beppu                   1.0\n",
       "\n",
       "[328149 rows x 1 columns]"
      ]
     },
     "execution_count": 96,
     "metadata": {},
     "output_type": "execute_result"
    }
   ],
   "source": [
    "average_ratings_by_name = imdb_clean.groupby('primary_name').mean()\n",
    "average_ratings_by_name.sort_values('averagerating', ascending = False)\n"
   ]
  },
  {
   "cell_type": "code",
   "execution_count": 97,
   "metadata": {},
   "outputs": [],
   "source": [
    "name, count = np.unique(imdb_clean.primary_name, return_counts=True)"
   ]
  },
  {
   "cell_type": "code",
   "execution_count": 98,
   "metadata": {},
   "outputs": [],
   "source": [
    "more_than_9 = []\n",
    "for name, count in zip(name, count):\n",
    "    if count > 9:\n",
    "        more_than_9.append(name)"
   ]
  },
  {
   "cell_type": "code",
   "execution_count": 143,
   "metadata": {},
   "outputs": [
    {
     "data": {
      "text/html": [
       "<div>\n",
       "<style scoped>\n",
       "    .dataframe tbody tr th:only-of-type {\n",
       "        vertical-align: middle;\n",
       "    }\n",
       "\n",
       "    .dataframe tbody tr th {\n",
       "        vertical-align: top;\n",
       "    }\n",
       "\n",
       "    .dataframe thead th {\n",
       "        text-align: right;\n",
       "    }\n",
       "</style>\n",
       "<table border=\"1\" class=\"dataframe\">\n",
       "  <thead>\n",
       "    <tr style=\"text-align: right;\">\n",
       "      <th></th>\n",
       "      <th>Average Rating</th>\n",
       "      <th>Category</th>\n",
       "      <th>Primary Name</th>\n",
       "    </tr>\n",
       "  </thead>\n",
       "  <tbody>\n",
       "    <tr>\n",
       "      <td>49669</td>\n",
       "      <td>10.0</td>\n",
       "      <td>composer</td>\n",
       "      <td>Grégoire Hetzel</td>\n",
       "    </tr>\n",
       "    <tr>\n",
       "      <td>35361</td>\n",
       "      <td>10.0</td>\n",
       "      <td>editor</td>\n",
       "      <td>Nadia Ben Rachid</td>\n",
       "    </tr>\n",
       "    <tr>\n",
       "      <td>149867</td>\n",
       "      <td>9.9</td>\n",
       "      <td>self</td>\n",
       "      <td>Sergey A.</td>\n",
       "    </tr>\n",
       "    <tr>\n",
       "      <td>131236</td>\n",
       "      <td>9.8</td>\n",
       "      <td>self</td>\n",
       "      <td>Maria Olsen</td>\n",
       "    </tr>\n",
       "    <tr>\n",
       "      <td>46613</td>\n",
       "      <td>9.7</td>\n",
       "      <td>actor</td>\n",
       "      <td>Eric Roberts</td>\n",
       "    </tr>\n",
       "    <tr>\n",
       "      <td>9002</td>\n",
       "      <td>9.7</td>\n",
       "      <td>actor</td>\n",
       "      <td>Leonardo DiCaprio</td>\n",
       "    </tr>\n",
       "    <tr>\n",
       "      <td>161585</td>\n",
       "      <td>9.7</td>\n",
       "      <td>actor</td>\n",
       "      <td>Kevin Sizemore</td>\n",
       "    </tr>\n",
       "    <tr>\n",
       "      <td>74091</td>\n",
       "      <td>9.7</td>\n",
       "      <td>actress</td>\n",
       "      <td>Margot Robbie</td>\n",
       "    </tr>\n",
       "    <tr>\n",
       "      <td>33044</td>\n",
       "      <td>9.7</td>\n",
       "      <td>producer</td>\n",
       "      <td>David Heyman</td>\n",
       "    </tr>\n",
       "    <tr>\n",
       "      <td>687</td>\n",
       "      <td>9.7</td>\n",
       "      <td>actor</td>\n",
       "      <td>Brad Pitt</td>\n",
       "    </tr>\n",
       "  </tbody>\n",
       "</table>\n",
       "</div>"
      ],
      "text/plain": [
       "        Average Rating  Category       Primary Name\n",
       "49669             10.0  composer    Grégoire Hetzel\n",
       "35361             10.0    editor   Nadia Ben Rachid\n",
       "149867             9.9      self          Sergey A.\n",
       "131236             9.8      self        Maria Olsen\n",
       "46613              9.7     actor       Eric Roberts\n",
       "9002               9.7     actor  Leonardo DiCaprio\n",
       "161585             9.7     actor     Kevin Sizemore\n",
       "74091              9.7   actress      Margot Robbie\n",
       "33044              9.7  producer       David Heyman\n",
       "687                9.7     actor          Brad Pitt"
      ]
     },
     "execution_count": 143,
     "metadata": {},
     "output_type": "execute_result"
    }
   ],
   "source": [
    "top_name_ratings = imdb_clean[imdb_clean.primary_name.isin(more_than_9)].sort_values('averagerating', ascending = False).iloc[0:10]\n",
    "top_name_ratings.drop('primary_profession', axis = 1, inplace = True)\n",
    "top_name_ratings.style.set_properties(**{'text_align': 'center'})\n",
    "top_name_ratings.rename(columns = {'averagerating':'Average Rating', 'category': 'Category', 'primary_name':'Primary Name'}, inplace = True)\n",
    "top_name_ratings"
   ]
  },
  {
   "cell_type": "code",
   "execution_count": 145,
   "metadata": {},
   "outputs": [
    {
     "data": {
      "text/html": [
       "<div>\n",
       "<style scoped>\n",
       "    .dataframe tbody tr th:only-of-type {\n",
       "        vertical-align: middle;\n",
       "    }\n",
       "\n",
       "    .dataframe tbody tr th {\n",
       "        vertical-align: top;\n",
       "    }\n",
       "\n",
       "    .dataframe thead th {\n",
       "        text-align: right;\n",
       "    }\n",
       "</style>\n",
       "<table border=\"1\" class=\"dataframe\">\n",
       "  <thead>\n",
       "    <tr style=\"text-align: right;\">\n",
       "      <th></th>\n",
       "      <th>Average Rating</th>\n",
       "      <th>Category</th>\n",
       "      <th>Primary Name</th>\n",
       "    </tr>\n",
       "  </thead>\n",
       "  <tbody>\n",
       "  </tbody>\n",
       "</table>\n",
       "</div>"
      ],
      "text/plain": [
       "Empty DataFrame\n",
       "Columns: [Average Rating, Category, Primary Name]\n",
       "Index: []"
      ]
     },
     "execution_count": 145,
     "metadata": {},
     "output_type": "execute_result"
    }
   ],
   "source": [
    "#Check for duplicates\n",
    "top_name_ratings[top_name_ratings.duplicated(keep = False)].sort_values('Primary Name')"
   ]
  },
  {
   "cell_type": "code",
   "execution_count": 147,
   "metadata": {},
   "outputs": [
    {
     "data": {
      "text/html": [
       "<style  type=\"text/css\" >\n",
       "    #T_da75e3a6_0593_11ea_acdf_a683e7983f56row0_col0 {\n",
       "            text_align:  center;\n",
       "        }    #T_da75e3a6_0593_11ea_acdf_a683e7983f56row0_col1 {\n",
       "            text_align:  center;\n",
       "        }    #T_da75e3a6_0593_11ea_acdf_a683e7983f56row1_col0 {\n",
       "            text_align:  center;\n",
       "        }    #T_da75e3a6_0593_11ea_acdf_a683e7983f56row1_col1 {\n",
       "            text_align:  center;\n",
       "        }    #T_da75e3a6_0593_11ea_acdf_a683e7983f56row2_col0 {\n",
       "            text_align:  center;\n",
       "        }    #T_da75e3a6_0593_11ea_acdf_a683e7983f56row2_col1 {\n",
       "            text_align:  center;\n",
       "        }    #T_da75e3a6_0593_11ea_acdf_a683e7983f56row3_col0 {\n",
       "            text_align:  center;\n",
       "        }    #T_da75e3a6_0593_11ea_acdf_a683e7983f56row3_col1 {\n",
       "            text_align:  center;\n",
       "        }    #T_da75e3a6_0593_11ea_acdf_a683e7983f56row4_col0 {\n",
       "            text_align:  center;\n",
       "        }    #T_da75e3a6_0593_11ea_acdf_a683e7983f56row4_col1 {\n",
       "            text_align:  center;\n",
       "        }    #T_da75e3a6_0593_11ea_acdf_a683e7983f56row5_col0 {\n",
       "            text_align:  center;\n",
       "        }    #T_da75e3a6_0593_11ea_acdf_a683e7983f56row5_col1 {\n",
       "            text_align:  center;\n",
       "        }</style><table id=\"T_da75e3a6_0593_11ea_acdf_a683e7983f56\" ><thead>    <tr>        <th class=\"blank level0\" ></th>        <th class=\"col_heading level0 col0\" >Average Rating</th>        <th class=\"col_heading level0 col1\" >Primary Name</th>    </tr>    <tr>        <th class=\"index_name level0\" >Category</th>        <th class=\"blank\" ></th>        <th class=\"blank\" ></th>    </tr></thead><tbody>\n",
       "                <tr>\n",
       "                        <th id=\"T_da75e3a6_0593_11ea_acdf_a683e7983f56level0_row0\" class=\"row_heading level0 row0\" >actor</th>\n",
       "                        <td id=\"T_da75e3a6_0593_11ea_acdf_a683e7983f56row0_col0\" class=\"data row0 col0\" >9.7</td>\n",
       "                        <td id=\"T_da75e3a6_0593_11ea_acdf_a683e7983f56row0_col1\" class=\"data row0 col1\" >Leonardo DiCaprio</td>\n",
       "            </tr>\n",
       "            <tr>\n",
       "                        <th id=\"T_da75e3a6_0593_11ea_acdf_a683e7983f56level0_row1\" class=\"row_heading level0 row1\" >actress</th>\n",
       "                        <td id=\"T_da75e3a6_0593_11ea_acdf_a683e7983f56row1_col0\" class=\"data row1 col0\" >9.7</td>\n",
       "                        <td id=\"T_da75e3a6_0593_11ea_acdf_a683e7983f56row1_col1\" class=\"data row1 col1\" >Margot Robbie</td>\n",
       "            </tr>\n",
       "            <tr>\n",
       "                        <th id=\"T_da75e3a6_0593_11ea_acdf_a683e7983f56level0_row2\" class=\"row_heading level0 row2\" >composer</th>\n",
       "                        <td id=\"T_da75e3a6_0593_11ea_acdf_a683e7983f56row2_col0\" class=\"data row2 col0\" >10</td>\n",
       "                        <td id=\"T_da75e3a6_0593_11ea_acdf_a683e7983f56row2_col1\" class=\"data row2 col1\" >Grégoire Hetzel</td>\n",
       "            </tr>\n",
       "            <tr>\n",
       "                        <th id=\"T_da75e3a6_0593_11ea_acdf_a683e7983f56level0_row3\" class=\"row_heading level0 row3\" >editor</th>\n",
       "                        <td id=\"T_da75e3a6_0593_11ea_acdf_a683e7983f56row3_col0\" class=\"data row3 col0\" >10</td>\n",
       "                        <td id=\"T_da75e3a6_0593_11ea_acdf_a683e7983f56row3_col1\" class=\"data row3 col1\" >Nadia Ben Rachid</td>\n",
       "            </tr>\n",
       "            <tr>\n",
       "                        <th id=\"T_da75e3a6_0593_11ea_acdf_a683e7983f56level0_row4\" class=\"row_heading level0 row4\" >producer</th>\n",
       "                        <td id=\"T_da75e3a6_0593_11ea_acdf_a683e7983f56row4_col0\" class=\"data row4 col0\" >9.7</td>\n",
       "                        <td id=\"T_da75e3a6_0593_11ea_acdf_a683e7983f56row4_col1\" class=\"data row4 col1\" >David Heyman</td>\n",
       "            </tr>\n",
       "            <tr>\n",
       "                        <th id=\"T_da75e3a6_0593_11ea_acdf_a683e7983f56level0_row5\" class=\"row_heading level0 row5\" >self</th>\n",
       "                        <td id=\"T_da75e3a6_0593_11ea_acdf_a683e7983f56row5_col0\" class=\"data row5 col0\" >9.9</td>\n",
       "                        <td id=\"T_da75e3a6_0593_11ea_acdf_a683e7983f56row5_col1\" class=\"data row5 col1\" >Sergey A.</td>\n",
       "            </tr>\n",
       "    </tbody></table>"
      ],
      "text/plain": [
       "<pandas.io.formats.style.Styler at 0x1a2d18e128>"
      ]
     },
     "execution_count": 147,
     "metadata": {},
     "output_type": "execute_result"
    }
   ],
   "source": [
    "top_category_ratings = top_name_ratings.groupby(['Category']).max()\n",
    "top_category_ratings.style.set_properties(**{'text_align':'center'})"
   ]
  }
 ],
 "metadata": {
  "kernelspec": {
   "display_name": "Python 3",
   "language": "python",
   "name": "python3"
  },
  "language_info": {
   "codemirror_mode": {
    "name": "ipython",
    "version": 3
   },
   "file_extension": ".py",
   "mimetype": "text/x-python",
   "name": "python",
   "nbconvert_exporter": "python",
   "pygments_lexer": "ipython3",
   "version": "3.6.9"
  }
 },
 "nbformat": 4,
 "nbformat_minor": 4
}
