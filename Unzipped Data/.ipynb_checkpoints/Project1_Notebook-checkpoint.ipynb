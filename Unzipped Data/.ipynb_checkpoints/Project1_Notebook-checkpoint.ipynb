{
 "cells": [
  {
   "cell_type": "code",
   "execution_count": null,
   "metadata": {},
   "outputs": [],
   "source": [
    "import pandas as pd\n",
    "import numpy as np\n",
    "import seaborn as sns\n",
    "import matplotlib.pyplot as plt\n"
   ]
  },
  {
   "cell_type": "markdown",
   "metadata": {},
   "source": [
    "# Reading in CSV's and Naming Features"
   ]
  },
  {
   "cell_type": "code",
   "execution_count": null,
   "metadata": {},
   "outputs": [],
   "source": [
    "bom_movie_gross = pd.read_csv('bom.movie_gross.csv')"
   ]
  },
  {
   "cell_type": "code",
   "execution_count": null,
   "metadata": {},
   "outputs": [],
   "source": [
    "imdb_name_basics = pd.read_csv('imdb.name.basics.csv')"
   ]
  },
  {
   "cell_type": "code",
   "execution_count": null,
   "metadata": {},
   "outputs": [],
   "source": [
    "imdb_title_akas = pd.read_csv('imdb.title.akas.csv')"
   ]
  },
  {
   "cell_type": "code",
   "execution_count": null,
   "metadata": {},
   "outputs": [],
   "source": [
    "imdb_title_basics = pd.read_csv('imdb.title.basics.csv')"
   ]
  },
  {
   "cell_type": "code",
   "execution_count": null,
   "metadata": {},
   "outputs": [],
   "source": [
    "imdb_title_crew = pd.read_csv('imdb.title.crew.csv')\n",
    "imdb_title_crew = imdb_title_crew.rename(columns = {'tconst': 'title_id'})"
   ]
  },
  {
   "cell_type": "code",
   "execution_count": null,
   "metadata": {},
   "outputs": [],
   "source": [
    "imdb_title_principals = pd.read_csv('imdb.title.principals.csv')\n",
    "imdb_title_principals = imdb_title_principals.rename(columns = {'tconst' : 'title_id'})"
   ]
  },
  {
   "cell_type": "code",
   "execution_count": null,
   "metadata": {},
   "outputs": [],
   "source": [
    "imdb_title_ratings = pd.read_csv('imdb.title.ratings.csv')\n",
    "imdb_title_ratings = imdb_title_ratings.rename(columns = {'tconst': 'title_id'})"
   ]
  },
  {
   "cell_type": "code",
   "execution_count": null,
   "metadata": {},
   "outputs": [],
   "source": [
    "rt_movie_info = pd.read_csv('rt.movie_info.tsv', delimiter = '\\t')"
   ]
  },
  {
   "cell_type": "code",
   "execution_count": null,
   "metadata": {},
   "outputs": [],
   "source": [
    "rt_reviews = pd.read_csv('rt.reviews.tsv', delimiter = '\\t', encoding = 'windows-1252')"
   ]
  },
  {
   "cell_type": "code",
   "execution_count": null,
   "metadata": {},
   "outputs": [],
   "source": [
    "tn_movie_budgets = pd.read_csv('tn.movie_budgets.csv')"
   ]
  },
  {
   "cell_type": "markdown",
   "metadata": {},
   "source": [
    "# Merging IMDB Tables"
   ]
  },
  {
   "cell_type": "code",
   "execution_count": 295,
   "metadata": {},
   "outputs": [
    {
     "data": {
      "text/plain": [
       "(1033234, 15)"
      ]
     },
     "execution_count": 295,
     "metadata": {},
     "output_type": "execute_result"
    }
   ],
   "source": [
    "# Merge IMDB tables on tconst (renamed to 'title_id')\n",
    "imdb_title_ratings_principals = pd.merge(imdb_title_ratings, imdb_title_principals, on = 'title_id', how = 'outer')\n",
    "imdb_title_full = pd.merge(imdb_title_ratings_principals, imdb_title_crew, on = 'title_id', how = 'outer')\n",
    "imdb_title_names_full = pd.merge(imdb_title_full, imdb_name_basics, on = 'nconst', how = 'outer')\n",
    "imdb_title_names_full.head()\n",
    "imdb_title_names_full.shape\n"
   ]
  },
  {
   "cell_type": "markdown",
   "metadata": {},
   "source": [
    "# Drop Columns not related to average rating"
   ]
  },
  {
   "cell_type": "code",
   "execution_count": 296,
   "metadata": {},
   "outputs": [],
   "source": [
    "#drop unecessary columns\n",
    "imdb_title_names_full = imdb_title_names_full.drop('job', axis = 1)\n",
    "imdb_title_names_full = imdb_title_names_full.drop('birth_year', axis = 1)\n",
    "imdb_title_names_full = imdb_title_names_full.drop('death_year', axis = 1)\n",
    "imdb_title_names_full = imdb_title_names_full.drop('ordering', axis = 1)\n",
    "imdb_title_names_full = imdb_title_names_full.drop('nconst', axis = 1)\n",
    "imdb_title_names_full = imdb_title_names_full.drop('numvotes', axis = 1)\n",
    "imdb_title_names_full = imdb_title_names_full.drop('directors', axis = 1)\n",
    "imdb_title_names_full = imdb_title_names_full.drop('writers', axis = 1)\n",
    "imdb_title_names_full = imdb_title_names_full.drop('characters', axis = 1)\n",
    "imdb_title_names_full = imdb_title_names_full.drop('known_for_titles', axis = 1)\n",
    "imdb_title_names_full = imdb_title_names_full.drop('title_id', axis = 1)"
   ]
  },
  {
   "cell_type": "code",
   "execution_count": 297,
   "metadata": {},
   "outputs": [
    {
     "data": {
      "text/html": [
       "<div>\n",
       "<style scoped>\n",
       "    .dataframe tbody tr th:only-of-type {\n",
       "        vertical-align: middle;\n",
       "    }\n",
       "\n",
       "    .dataframe tbody tr th {\n",
       "        vertical-align: top;\n",
       "    }\n",
       "\n",
       "    .dataframe thead th {\n",
       "        text-align: right;\n",
       "    }\n",
       "</style>\n",
       "<table border=\"1\" class=\"dataframe\">\n",
       "  <thead>\n",
       "    <tr style=\"text-align: right;\">\n",
       "      <th></th>\n",
       "      <th>averagerating</th>\n",
       "      <th>category</th>\n",
       "      <th>primary_name</th>\n",
       "      <th>primary_profession</th>\n",
       "    </tr>\n",
       "  </thead>\n",
       "  <tbody>\n",
       "    <tr>\n",
       "      <td>0</td>\n",
       "      <td>8.3</td>\n",
       "      <td>production_designer</td>\n",
       "      <td>Kazi Rafik Ali</td>\n",
       "      <td>production_designer,art_department</td>\n",
       "    </tr>\n",
       "    <tr>\n",
       "      <td>1</td>\n",
       "      <td>8.3</td>\n",
       "      <td>production_designer</td>\n",
       "      <td>Kazi Rafik Ali</td>\n",
       "      <td>production_designer,art_department</td>\n",
       "    </tr>\n",
       "    <tr>\n",
       "      <td>2</td>\n",
       "      <td>NaN</td>\n",
       "      <td>production_designer</td>\n",
       "      <td>Kazi Rafik Ali</td>\n",
       "      <td>production_designer,art_department</td>\n",
       "    </tr>\n",
       "    <tr>\n",
       "      <td>3</td>\n",
       "      <td>8.3</td>\n",
       "      <td>actor</td>\n",
       "      <td>Harish Verma</td>\n",
       "      <td>actor</td>\n",
       "    </tr>\n",
       "    <tr>\n",
       "      <td>4</td>\n",
       "      <td>6.4</td>\n",
       "      <td>actor</td>\n",
       "      <td>Harish Verma</td>\n",
       "      <td>actor</td>\n",
       "    </tr>\n",
       "    <tr>\n",
       "      <td>5</td>\n",
       "      <td>6.4</td>\n",
       "      <td>actor</td>\n",
       "      <td>Harish Verma</td>\n",
       "      <td>actor</td>\n",
       "    </tr>\n",
       "    <tr>\n",
       "      <td>6</td>\n",
       "      <td>6.9</td>\n",
       "      <td>actor</td>\n",
       "      <td>Harish Verma</td>\n",
       "      <td>actor</td>\n",
       "    </tr>\n",
       "    <tr>\n",
       "      <td>7</td>\n",
       "      <td>5.8</td>\n",
       "      <td>actor</td>\n",
       "      <td>Harish Verma</td>\n",
       "      <td>actor</td>\n",
       "    </tr>\n",
       "    <tr>\n",
       "      <td>8</td>\n",
       "      <td>7.3</td>\n",
       "      <td>actor</td>\n",
       "      <td>Harish Verma</td>\n",
       "      <td>actor</td>\n",
       "    </tr>\n",
       "    <tr>\n",
       "      <td>9</td>\n",
       "      <td>7.8</td>\n",
       "      <td>actor</td>\n",
       "      <td>Harish Verma</td>\n",
       "      <td>actor</td>\n",
       "    </tr>\n",
       "    <tr>\n",
       "      <td>10</td>\n",
       "      <td>7.6</td>\n",
       "      <td>actor</td>\n",
       "      <td>Harish Verma</td>\n",
       "      <td>actor</td>\n",
       "    </tr>\n",
       "    <tr>\n",
       "      <td>11</td>\n",
       "      <td>6.7</td>\n",
       "      <td>actor</td>\n",
       "      <td>Harish Verma</td>\n",
       "      <td>actor</td>\n",
       "    </tr>\n",
       "    <tr>\n",
       "      <td>12</td>\n",
       "      <td>7.6</td>\n",
       "      <td>actor</td>\n",
       "      <td>Harish Verma</td>\n",
       "      <td>actor</td>\n",
       "    </tr>\n",
       "    <tr>\n",
       "      <td>13</td>\n",
       "      <td>5.8</td>\n",
       "      <td>actor</td>\n",
       "      <td>Harish Verma</td>\n",
       "      <td>actor</td>\n",
       "    </tr>\n",
       "    <tr>\n",
       "      <td>14</td>\n",
       "      <td>5.5</td>\n",
       "      <td>actor</td>\n",
       "      <td>Harish Verma</td>\n",
       "      <td>actor</td>\n",
       "    </tr>\n",
       "    <tr>\n",
       "      <td>15</td>\n",
       "      <td>5.8</td>\n",
       "      <td>actor</td>\n",
       "      <td>Harish Verma</td>\n",
       "      <td>actor</td>\n",
       "    </tr>\n",
       "    <tr>\n",
       "      <td>16</td>\n",
       "      <td>6.5</td>\n",
       "      <td>actor</td>\n",
       "      <td>Harish Verma</td>\n",
       "      <td>actor</td>\n",
       "    </tr>\n",
       "    <tr>\n",
       "      <td>17</td>\n",
       "      <td>8.3</td>\n",
       "      <td>actress</td>\n",
       "      <td>Roopi Gill</td>\n",
       "      <td>actress</td>\n",
       "    </tr>\n",
       "    <tr>\n",
       "      <td>18</td>\n",
       "      <td>7.0</td>\n",
       "      <td>actress</td>\n",
       "      <td>Roopi Gill</td>\n",
       "      <td>actress</td>\n",
       "    </tr>\n",
       "    <tr>\n",
       "      <td>19</td>\n",
       "      <td>6.0</td>\n",
       "      <td>actress</td>\n",
       "      <td>Roopi Gill</td>\n",
       "      <td>actress</td>\n",
       "    </tr>\n",
       "  </tbody>\n",
       "</table>\n",
       "</div>"
      ],
      "text/plain": [
       "    averagerating             category    primary_name  \\\n",
       "0             8.3  production_designer  Kazi Rafik Ali   \n",
       "1             8.3  production_designer  Kazi Rafik Ali   \n",
       "2             NaN  production_designer  Kazi Rafik Ali   \n",
       "3             8.3                actor    Harish Verma   \n",
       "4             6.4                actor    Harish Verma   \n",
       "5             6.4                actor    Harish Verma   \n",
       "6             6.9                actor    Harish Verma   \n",
       "7             5.8                actor    Harish Verma   \n",
       "8             7.3                actor    Harish Verma   \n",
       "9             7.8                actor    Harish Verma   \n",
       "10            7.6                actor    Harish Verma   \n",
       "11            6.7                actor    Harish Verma   \n",
       "12            7.6                actor    Harish Verma   \n",
       "13            5.8                actor    Harish Verma   \n",
       "14            5.5                actor    Harish Verma   \n",
       "15            5.8                actor    Harish Verma   \n",
       "16            6.5                actor    Harish Verma   \n",
       "17            8.3              actress      Roopi Gill   \n",
       "18            7.0              actress      Roopi Gill   \n",
       "19            6.0              actress      Roopi Gill   \n",
       "\n",
       "                    primary_profession  \n",
       "0   production_designer,art_department  \n",
       "1   production_designer,art_department  \n",
       "2   production_designer,art_department  \n",
       "3                                actor  \n",
       "4                                actor  \n",
       "5                                actor  \n",
       "6                                actor  \n",
       "7                                actor  \n",
       "8                                actor  \n",
       "9                                actor  \n",
       "10                               actor  \n",
       "11                               actor  \n",
       "12                               actor  \n",
       "13                               actor  \n",
       "14                               actor  \n",
       "15                               actor  \n",
       "16                               actor  \n",
       "17                             actress  \n",
       "18                             actress  \n",
       "19                             actress  "
      ]
     },
     "execution_count": 297,
     "metadata": {},
     "output_type": "execute_result"
    }
   ],
   "source": [
    "imdb_title_names_full.head(20)"
   ]
  },
  {
   "cell_type": "code",
   "execution_count": null,
   "metadata": {},
   "outputs": [],
   "source": [
    "# Drop NaN Average Rating\n",
    "imdb_clean = imdb_title_names_full.dropna()\n",
    "imdb_clean.primary_name.value_counts()\n"
   ]
  },
  {
   "cell_type": "code",
   "execution_count": null,
   "metadata": {},
   "outputs": [],
   "source": [
    "%matplotlib inline\n",
    "imdb_graph = sns.distplot(imdb_clean['primary_name'])\n",
    "imdb_graph"
   ]
  },
  {
   "cell_type": "markdown",
   "metadata": {},
   "source": [
    "# Group DF by name and rating\n"
   ]
  },
  {
   "cell_type": "code",
   "execution_count": null,
   "metadata": {},
   "outputs": [],
   "source": [
    "# Group cleaned DF by primary name and \n",
    "primary_name_rating = imdb_clean.groupby(['primary_name', 'primary_profession'])\n",
    "primary_name_rating.mean().sort_values('averagerating')\n"
   ]
  },
  {
   "cell_type": "code",
   "execution_count": null,
   "metadata": {},
   "outputs": [],
   "source": []
  },
  {
   "cell_type": "code",
   "execution_count": null,
   "metadata": {},
   "outputs": [],
   "source": []
  },
  {
   "cell_type": "code",
   "execution_count": null,
   "metadata": {},
   "outputs": [],
   "source": []
  }
 ],
 "metadata": {
  "kernelspec": {
   "display_name": "Python 3",
   "language": "python",
   "name": "python3"
  },
  "language_info": {
   "codemirror_mode": {
    "name": "ipython",
    "version": 3
   },
   "file_extension": ".py",
   "mimetype": "text/x-python",
   "name": "python",
   "nbconvert_exporter": "python",
   "pygments_lexer": "ipython3",
   "version": "3.6.9"
  }
 },
 "nbformat": 4,
 "nbformat_minor": 4
}
